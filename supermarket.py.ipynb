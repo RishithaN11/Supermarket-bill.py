{
 "cells": [
  {
   "cell_type": "code",
   "execution_count": null,
   "id": "9404176a",
   "metadata": {},
   "outputs": [
    {
     "name": "stdout",
     "output_type": "stream",
     "text": [
      "\n",
      "Welcome to Supermarket Inventory System\n",
      "1. Owner View\n",
      "2. Customer View\n",
      "3. Exit\n"
     ]
    }
   ],
   "source": [
    "import csv\n",
    "\n",
    "def load_inventory():\n",
    "    try:\n",
    "        with open('inventory.csv', mode='r') as file:\n",
    "            reader = csv.DictReader(file)\n",
    "            inventory = list(reader)\n",
    "    except FileNotFoundError:\n",
    "        inventory = []\n",
    "    \n",
    "    return inventory\n",
    "\n",
    "def save_inventory(inventory):\n",
    "    with open('inventory.csv', mode='w', newline='') as file:\n",
    "        fieldnames = ['item_name', 'quantity', 'price']\n",
    "        writer = csv.DictWriter(file, fieldnames=fieldnames)\n",
    "        writer.writeheader()\n",
    "        writer.writerows(inventory)\n",
    "\n",
    "def display_inventory():\n",
    "    inventory = load_inventory()\n",
    "    print(\"Current Inventory:\")\n",
    "    print(\"------------------\")\n",
    "    for item in inventory:\n",
    "        print(f\"Item: {item['item_name']}, Quantity: {item['quantity']}, Price: ${item['price']}\")\n",
    "    print(\"------------------\")\n",
    "\n",
    "def owner_view():\n",
    "    while True:\n",
    "        print(\"\\nOwner View:\")\n",
    "        print(\"1. Add Item\")\n",
    "        print(\"2. Remove Item\")\n",
    "        print(\"3. Display Inventory\")\n",
    "        print(\"4. Exit\")\n",
    "        choice = input(\"Enter your choice: \")\n",
    "        \n",
    "        if choice == '1':\n",
    "            item_name = input(\"Enter item name: \")\n",
    "            quantity = input(\"Enter quantity: \")\n",
    "            price = input(\"Enter price: \")\n",
    "            inventory = load_inventory()\n",
    "            inventory.append({'item_name': item_name, 'quantity': quantity, 'price': price})\n",
    "            save_inventory(inventory)\n",
    "            print(\"Item added successfully.\")\n",
    "        elif choice == '2':\n",
    "            item_name = input(\"Enter item name to remove: \")\n",
    "            inventory = load_inventory()\n",
    "            inventory = [item for item in inventory if item['item_name'] != item_name]\n",
    "            save_inventory(inventory)\n",
    "            print(\"Item removed successfully.\")\n",
    "        elif choice == '3':\n",
    "            display_inventory()\n",
    "        elif choice == '4':\n",
    "            break\n",
    "        else:\n",
    "            print(\"Invalid choice.\")\n",
    "\n",
    "def customer_view():\n",
    "    while True:\n",
    "        print(\"\\nCustomer View:\")\n",
    "        print(\"1. Display Inventory\")\n",
    "        print(\"2. Exit\")\n",
    "        choice = input(\"Enter your choice: \")\n",
    "        \n",
    "        if choice == '1':\n",
    "            display_inventory()\n",
    "        elif choice == '2':\n",
    "            break\n",
    "        else:\n",
    "            print(\"Invalid choice.\")\n",
    "\n",
    "def main():\n",
    "    while True:\n",
    "        print(\"\\nWelcome to Supermarket Inventory System\")\n",
    "        print(\"1. Owner View\")\n",
    "        print(\"2. Customer View\")\n",
    "        print(\"3. Exit\")\n",
    "        choice = input(\"Enter your choice: \")\n",
    "        \n",
    "        if choice == '1':\n",
    "            owner_view()\n",
    "        elif choice == '2':\n",
    "            customer_view()\n",
    "        elif choice == '3':\n",
    "            print(\"Thank you for using Supermarket Inventory System.\")\n",
    "            break\n",
    "        else:\n",
    "            print(\"Invalid choice.\")\n",
    "main()\n"
   ]
  },
  {
   "cell_type": "code",
   "execution_count": null,
   "id": "5f7f29b6",
   "metadata": {},
   "outputs": [],
   "source": []
  }
 ],
 "metadata": {
  "kernelspec": {
   "display_name": "Python 3 (ipykernel)",
   "language": "python",
   "name": "python3"
  },
  "language_info": {
   "codemirror_mode": {
    "name": "ipython",
    "version": 3
   },
   "file_extension": ".py",
   "mimetype": "text/x-python",
   "name": "python",
   "nbconvert_exporter": "python",
   "pygments_lexer": "ipython3",
   "version": "3.11.5"
  }
 },
 "nbformat": 4,
 "nbformat_minor": 5
}
Welcome to Supermarket Inventory System
1. Owner View
2. Customer View
3. Exit
Enter your choice: 1

Owner View:
1. Add Item
2. Remove Item
3. Display Inventory
4. Exit
Enter your choice: 1
Enter item name: crocs
Enter quantity: 2
Enter price: 7000
Item added successfully.

Owner View:
1. Add Item
2. Remove Item
3. Display Inventory
4. Exit
Enter your choice: 1
Enter item name: sneakers
Enter quantity: 1
Enter price: 9000
Item added successfully.

Owner View:
1. Add Item
2. Remove Item
3. Display Inventory
4. Exit
Enter your choice: 1
Enter item name: woodland
Enter quantity: 1
Enter price: 99000
Item added successfully.

Owner View:
1. Add Item
2. Remove Item
3. Display Inventory
4. Exit
Enter your choice: 3
Current Inventory:
------------------
Item: crocs, Quantity: 2, Price: $4500
Item: sneakers, Quantity: 2, Price: $90000
Item: woodland, Quantity: 1, Price: $45000
Item: crocs, Quantity: 2, Price: $6000
Item: flipflop, Quantity: 2, Price: $7000
Item: crocs, Quantity: 2, Price: $7000
Item: sneakers, Quantity: 1, Price: $9000
Item: woodland, Quantity: 1, Price: $99000
------------------

Owner View:
1. Add Item
2. Remove Item
3. Display Inventory
4. Exit
Enter your choice: 2
Enter item name to remove: crocs
Item removed successfully.

Owner View:
1. Add Item
2. Remove Item
3. Display Inventory
4. Exit
Enter your choice: 2
Enter item name to remove: sneakers
Item removed successfully.

Owner View:
1. Add Item
2. Remove Item
3. Display Inventory
4. Exit
Enter your choice: woodland
Invalid choice.

Owner View:
1. Add Item
2. Remove Item
3. Display Inventory
4. Exit
Enter your choice: 3
Current Inventory:
------------------
Item: woodland, Quantity: 1, Price: $45000
Item: flipflop, Quantity: 2, Price: $7000
Item: woodland, Quantity: 1, Price: $99000
------------------

Owner View:
1. Add Item
2. Remove Item
3. Display Inventory
4. Exit
Enter your choice: 4

Welcome to Supermarket Inventory System
1. Owner View
2. Customer View
3. Exit
Enter your choice: 2

Customer View:
1. Display Inventory
2. Exit
Enter your choice: 1
Current Inventory:
------------------
Item: woodland, Quantity: 1, Price: $45000
Item: flipflop, Quantity: 2, Price: $7000
Item: woodland, Quantity: 1, Price: $99000
------------------

Customer View:
1. Display Inventory
2. Exit
Enter your choice: 2

Welcome to Supermarket Inventory System
